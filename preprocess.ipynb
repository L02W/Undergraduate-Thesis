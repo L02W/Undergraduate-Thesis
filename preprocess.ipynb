{
 "cells": [
  {
   "cell_type": "code",
   "execution_count": 10,
   "metadata": {},
   "outputs": [],
   "source": [
    "from pathlib import Path\n",
    "import numpy as np\n",
    "import cv2\n",
    "import re\n",
    "import pickle\n",
    "import numpy as np\n",
    "from sklearn.preprocessing import LabelBinarizer\n",
    "from keras.utils import np_utils\n",
    "\n",
    "def read_pickle(path):\n",
    "    with open(path, 'rb')as f:\n",
    "        feats = pickle.load(f)\n",
    "        #feats = joblib.load(f)\n",
    "    return feats\n",
    "\n",
    "def save_pickle(path, feats):\n",
    "    with open(path, 'wb')as f:\n",
    "        pickle.dump(feats, f)"
   ]
  },
  {
   "cell_type": "code",
   "execution_count": 11,
   "metadata": {},
   "outputs": [],
   "source": [
    "paths = list(Path(r'pic').glob('*.jpg'))\n",
    "img_arr = [cv2.imread(str(p)) for p in paths]\n",
    "img_res = np.array([cv2.resize(img_arr, (224, 224)) for img_arr in img_arr])\n",
    "\n",
    "\n",
    "labels = [re.split(r'[\\d+\\\\]', str(p))[1] for p in paths]\n",
    "labs = []\n",
    "for i in labels:\n",
    "    if i == 'non':\n",
    "        labs.append(0)\n",
    "    else:\n",
    "        labs.append(1)\n",
    "try:\n",
    "    labs = np_utils.to_categorical(labs)\n",
    "except ValueError:  #raised if `y` is empty.\n",
    "    pass\n",
    "\n",
    "\n",
    "\n",
    "\n",
    "\n",
    "save_pickle(r'imgs.pickle', img_res)\n",
    "save_pickle(r'labs.pickle', labs)"
   ]
  },
  {
   "cell_type": "code",
   "execution_count": 12,
   "metadata": {},
   "outputs": [
    {
     "name": "stdout",
     "output_type": "stream",
     "text": [
      "Requirement already satisfied: joblib in /opt/anaconda3/envs/tensorflow/lib/python3.8/site-packages (1.1.0)\n",
      "Note: you may need to restart the kernel to use updated packages.\n"
     ]
    }
   ],
   "source": [
    "pip install joblib"
   ]
  },
  {
   "cell_type": "code",
   "execution_count": null,
   "metadata": {},
   "outputs": [],
   "source": []
  }
 ],
 "metadata": {
  "kernelspec": {
   "display_name": "Python 3 (ipykernel)",
   "language": "python",
   "name": "python3"
  },
  "language_info": {
   "codemirror_mode": {
    "name": "ipython",
    "version": 3
   },
   "file_extension": ".py",
   "mimetype": "text/x-python",
   "name": "python",
   "nbconvert_exporter": "python",
   "pygments_lexer": "ipython3",
   "version": "3.8.13"
  }
 },
 "nbformat": 4,
 "nbformat_minor": 4
}
